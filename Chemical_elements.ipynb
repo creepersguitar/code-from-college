{
  "nbformat": 4,
  "nbformat_minor": 0,
  "metadata": {
    "colab": {
      "name": "Chemical elements.ipynb",
      "provenance": [],
      "authorship_tag": "ABX9TyPUz4j94/ZZ6v3wRTzbxAcz",
      "include_colab_link": true
    },
    "kernelspec": {
      "name": "python3",
      "display_name": "Python 3"
    },
    "language_info": {
      "name": "python"
    }
  },
  "cells": [
    {
      "cell_type": "markdown",
      "metadata": {
        "id": "view-in-github",
        "colab_type": "text"
      },
      "source": [
        "<a href=\"https://colab.research.google.com/github/creepersguitar/code-from-college/blob/main/Chemical_elements.ipynb\" target=\"_parent\"><img src=\"https://colab.research.google.com/assets/colab-badge.svg\" alt=\"Open In Colab\"/></a>"
      ]
    },
    {
      "cell_type": "code",
      "execution_count": null,
      "metadata": {
        "id": "deOzNAHRq1UN"
      },
      "outputs": [],
      "source": [
        "import random\n",
        "\n",
        "elements = {\"Ac\":\"Actinium\",\"Ag\":\"Silver\",\"Al\":\"Aluminum\",\"Am\":\"Americium\",\n",
        "\"Ar\":\"Argon\",\"As\":\"Arsenic\",\"At\":\"Astatine\",\"Au\":\"Gold\",\"B\":\"Boron\",\"Ba\":\"Barium\",\n",
        "\"Be\":\"Beryllium\",\"Bh\":\"Bohrium\",\"Bi\":\"Bismuth\",\"Bk\":\"Berkelium\",\"Br\":\"Bromine\",\n",
        "\"C\":\"Carbon\",\"Ca\":\"Calcium\",\"Cd\":\"Cadmium\",\"Ce\":\"Cerium\",\"Cf\":\"Californium\",\n",
        "\"Cl\":\"Chlorine\",\"Cm\":\"Curium\",\"Cn\":\"Copernicium\",\"Co\":\"Cobalt\",\"Cr\":\"Chromium\",\n",
        "\"Cs\":\"Cesium\",\"Cu\":\"Copper\",\"Db\":\"Dubnium\",\"Ds\":\"Darmstadtium\",\"Dy\":\"Dysprosium\",\n",
        "\"Er\":\"Erbium\",\"Es\":\"Einsteinium\",\"Eu\":\"Europium\",\"F\":\"Fluorine\",\"Fe\":\"Iron\",\n",
        "\"Fl\":\"Flerovium\",\"Fm\":\"Fermium\",\"Fr\":\"Francium\",\"Ga\":\"Gallium\",\"Gd\":\"Gadolinium\",\n",
        "\"Ge\":\"Germanium\",\"H\":\"Hydrogen\",\"He\":\"Helium\",\"Hf\":\"Hafnium\",\"Hg\":\"Mercury\",\n",
        "\"Ho\":\"Holmium\",\"Hs\":\"Hassium\",\"I\":\"Iodine\",\"In\":\"Indium\",\"Ir\":\"Iridium\",\n",
        "\"K\":\"Potassium\",\"Kr\":\"Krypton\",\"La\":\"Lanthanum\",\"Li\":\"Lithium\",\"Lr\":\"Lawrencium\",\n",
        "\"Lu\":\"Lutetium\",\"Lv\":\"Livermorium\",\"Mc\":\"Moscovium\",\"Md\":\"Mendelevium\",\n",
        "\"Mg\":\"Magnesium\",\"Mn\":\"Manganese\",\"Mo\":\"Molybdenum\",\"Mt\":\"Meitnerium\",\n",
        "\"N\":\"Nitrogen\",\"Na\":\"Sodium\",\"Nb\":\"Niobium\",\"Nd\":\"Neodymium\",\"Ne\":\"Neon\",\n",
        "\"Nh\":\"Nihonium\",\"Ni\":\"Nickel\",\"No\":\"Nobelium\",\"Np\":\"Neptunium\",\"O\":\"Oxygen\",\n",
        "\"Og\":\"Oganesson\",\"Os\":\"Osmium\",\"P\":\"Phosphorus\",\"Pa\":\"Protactinium\",\"Pb\":\"Lead\",\n",
        "\"Pd\":\"Palladium\",\"Pm\":\"Promethium\",\"Po\":\"Polonium\",\"Pr\":\"Praseodymium\",\n",
        "\"Pt\":\"Platinum\",\"Pu\":\"Plutonium\",\"Ra\":\"Radium\",\"Rb\":\"Rubidium\",\"Re\":\"Rhenium\",\n",
        "\"Rf\":\"Rutherfordium\",\"Rg\":\"Roentgenium\",\"Rh\":\"Rhodium\",\"Rn\":\"Radon\",\n",
        "\"Ru\":\"Ruthenium\",\"S\":\"Sulfur\",\"Sb\":\"Antimony\",\"Sc\":\"Scandium\",\"Se\":\"Selenium\",\n",
        "\"Sg\":\"Seaborgium\",\"Si\":\"Silicon\",\"Sm\":\"Samarium\",\"Sn\":\"Tin\",\"Sr\":\"Strontium\",\n",
        "\"Ta\":\"Tantalum\",\"Tb\":\"Terbium\",\"Tc\":\"Technetium\",\"Te\":\"Tellurium\",\"Th\":\"Thorium\",\n",
        "\"Ti\":\"Titanium\",\"Tl\":\"Thallium\",\"Tm\":\"Thulium\",\"Ts\":\"Tennessine\",\"U\":\"Uranium\",\n",
        "\"V\":\"Vanadium\",\"W\":\"Tungsten\",\"Xe\":\"Xenon\",\"Y\":\"Yttrium\",\"Yb\":\"Ytterbium\",\n",
        "\"Zn\":\"Zinc\",\"Zr\":\"Zirconium\"}\n",
        "\n",
        "print(\"H-Mg-Ti-O-Au-Ni-Pt-Er-W-Xe-Zn-Li\")\n",
        "print(\"Pd                            Na\")\n",
        "print(\"Cu   Chemical Elements Quiz   Fe\")\n",
        "print(\"Sc                            Te\")\n",
        "print(\"H-Mg-Ti-O-Au-Ni-Pt-Er-W-Xe-Zn-Li\")\n",
        "print(\"\")\n",
        "\n",
        "#Select a random element from the dictionary\n",
        "symbol = random.choice(elements.keys())\n",
        "element = elements[symbol]\n",
        "score = 0\n",
        "print(symbol + \" - \")\n",
        "guess = input(\"Please guess what the element is from its symbol: \")\n",
        "for i in range (0,10):\n",
        "  if guess == element:\n",
        "    print(symbol + \" - \", guess)\n",
        "    print(\"Well done :) \")\n",
        "    score = score + 1\n",
        "    if score == 10:\n",
        "      print(\"Well done you have completed the quiz\")\n",
        "    else:\n",
        "      symbol = random.choice(elements.keys())\n",
        "      element = elements[symbol]\n",
        "      print(symbol + \" - \")\n",
        "      guess = input(\"Please guess what the element is from its symbol: \")\n",
        "  else:\n",
        "    print(\"Oh no :( \")"
      ]
    }
  ]
}